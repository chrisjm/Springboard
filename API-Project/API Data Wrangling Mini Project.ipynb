{
 "cells": [
  {
   "cell_type": "markdown",
   "metadata": {},
   "source": [
    "This exercise will require you to pull some data from the Qunadl API. Qaundl is currently the most widely used aggregator of financial market data."
   ]
  },
  {
   "cell_type": "markdown",
   "metadata": {},
   "source": [
    "As a first step, you will need to register a free account on the http://www.quandl.com website."
   ]
  },
  {
   "cell_type": "markdown",
   "metadata": {},
   "source": [
    "After you register, you will be provided with a unique API key, that you should store:"
   ]
  },
  {
   "cell_type": "code",
   "execution_count": 1,
   "metadata": {},
   "outputs": [],
   "source": [
    "# Store the API key as a string - according to PEP8, constants are always named in all upper case\n",
    "API_KEY = ''"
   ]
  },
  {
   "cell_type": "markdown",
   "metadata": {},
   "source": [
    "Qaundl has a large number of data sources, but, unfortunately, most of them require a Premium subscription. Still, there are also a good number of free datasets."
   ]
  },
  {
   "cell_type": "markdown",
   "metadata": {},
   "source": [
    "For this mini project, we will focus on equities data from the Frankfurt Stock Exhange (FSE), which is available for free. We'll try and analyze the stock prices of a company called Carl Zeiss Meditec, which manufactures tools for eye examinations, as well as medical lasers for laser eye surgery: https://www.zeiss.com/meditec/int/home.html. The company is listed under the stock ticker AFX_X."
   ]
  },
  {
   "cell_type": "markdown",
   "metadata": {},
   "source": [
    "You can find the detailed Quandl API instructions here: https://docs.quandl.com/docs/time-series"
   ]
  },
  {
   "cell_type": "markdown",
   "metadata": {},
   "source": [
    "While there is a dedicated Python package for connecting to the Quandl API, we would prefer that you use the *requests* package, which can be easily downloaded using *pip* or *conda*. You can find the documentation for the package here: http://docs.python-requests.org/en/master/ "
   ]
  },
  {
   "cell_type": "markdown",
   "metadata": {},
   "source": [
    "Finally, apart from the *requests* package, you are encouraged to not use any third party Python packages, such as *pandas*, and instead focus on what's available in the Python Standard Library (the *collections* module might come in handy: https://pymotw.com/3/collections/ ).\n",
    "Also, since you won't have access to DataFrames, you are encouraged to us Python's native data structures - preferably dictionaries, though some questions can also be answered using lists.\n",
    "You can read more on these data structures here: https://docs.python.org/3/tutorial/datastructures.html"
   ]
  },
  {
   "cell_type": "markdown",
   "metadata": {},
   "source": [
    "Keep in mind that the JSON responses you will be getting from the API map almost one-to-one to Python's dictionaries. Unfortunately, they can be very nested, so make sure you read up on indexing dictionaries in the documentation provided above."
   ]
  },
  {
   "cell_type": "code",
   "execution_count": 2,
   "metadata": {},
   "outputs": [],
   "source": [
    "# First, import the relevant modules\n",
    "import requests"
   ]
  },
  {
   "cell_type": "code",
   "execution_count": 3,
   "metadata": {},
   "outputs": [
    {
     "data": {
      "text/plain": [
       "200"
      ]
     },
     "execution_count": 3,
     "metadata": {},
     "output_type": "execute_result"
    }
   ],
   "source": [
    "# Now, call the Quandl API and pull out a small sample of the data (only one day) to get a glimpse\n",
    "# into the JSON structure that will be returned\n",
    "database_code = 'FSE'\n",
    "dataset_code = 'AFX_X'\n",
    "return_format = 'json'\n",
    "url = f'https://www.quandl.com/api/v3/datasets/{database_code}/{dataset_code}/data.{return_format}'\n",
    "params = {\n",
    "    'start_date': '2020-05-29',\n",
    "    'end_date': '2020-06-01'\n",
    "}\n",
    "r = requests.get(url, params)\n",
    "r.status_code"
   ]
  },
  {
   "cell_type": "code",
   "execution_count": 4,
   "metadata": {},
   "outputs": [],
   "source": [
    "response = r.json()"
   ]
  },
  {
   "cell_type": "code",
   "execution_count": 5,
   "metadata": {},
   "outputs": [
    {
     "data": {
      "text/plain": [
       "{'dataset_data': {'limit': None,\n",
       "  'transform': None,\n",
       "  'column_index': None,\n",
       "  'column_names': ['Date',\n",
       "   'Open',\n",
       "   'High',\n",
       "   'Low',\n",
       "   'Close',\n",
       "   'Change',\n",
       "   'Traded Volume',\n",
       "   'Turnover',\n",
       "   'Last Price of the Day',\n",
       "   'Daily Traded Units',\n",
       "   'Daily Turnover'],\n",
       "  'start_date': '2020-05-29',\n",
       "  'end_date': '2020-05-29',\n",
       "  'frequency': 'daily',\n",
       "  'data': [['2020-05-29',\n",
       "    91.05,\n",
       "    93.1,\n",
       "    90.25,\n",
       "    92.1,\n",
       "    None,\n",
       "    238162.0,\n",
       "    21887648.1,\n",
       "    None,\n",
       "    None,\n",
       "    None]],\n",
       "  'collapse': None,\n",
       "  'order': None}}"
      ]
     },
     "execution_count": 5,
     "metadata": {},
     "output_type": "execute_result"
    }
   ],
   "source": [
    "# Inspect the JSON structure of the object you created, and take note of how nested it is,\n",
    "# as well as the overall structure\n",
    "response"
   ]
  },
  {
   "cell_type": "markdown",
   "metadata": {},
   "source": [
    "These are your tasks for this mini project:\n",
    "\n",
    "1. Collect data from the Franfurt Stock Exchange, for the ticker AFX_X, for the whole year 2017 (keep in mind that the date format is YYYY-MM-DD).\n",
    "2. Convert the returned JSON object into a Python dictionary.\n",
    "3. Calculate what the highest and lowest opening prices were for the stock in this period.\n",
    "4. What was the largest change in any one day (based on High and Low price)?\n",
    "5. What was the largest change between any two days (based on Closing Price)?\n",
    "6. What was the average daily trading volume during this year?\n",
    "7. (Optional) What was the median trading volume during this year. (Note: you may need to implement your own function for calculating the median.)"
   ]
  },
  {
   "cell_type": "markdown",
   "metadata": {
    "collapsed": true
   },
   "source": [
    "## 1. Collect data from the Franfurt Stock Exchange, for the ticker AFX_X, for the whole year 2017 (keep in mind that the date format is YYYY-MM-DD)."
   ]
  },
  {
   "cell_type": "code",
   "execution_count": 6,
   "metadata": {},
   "outputs": [
    {
     "name": "stdout",
     "output_type": "stream",
     "text": [
      "Status code: 200\n"
     ]
    }
   ],
   "source": [
    "params = {\n",
    "    'start_date': '2017-01-01',\n",
    "    'end_date': '2017-12-31',\n",
    "}\n",
    "r = requests.get(url, params)\n",
    "print(f\"Status code: {r.status_code}\")"
   ]
  },
  {
   "cell_type": "markdown",
   "metadata": {},
   "source": [
    "## 2. Convert the returned JSON object into a Python dictionary."
   ]
  },
  {
   "cell_type": "code",
   "execution_count": 7,
   "metadata": {},
   "outputs": [],
   "source": [
    "response = r.json()"
   ]
  },
  {
   "cell_type": "code",
   "execution_count": 8,
   "metadata": {},
   "outputs": [
    {
     "name": "stdout",
     "output_type": "stream",
     "text": [
      "There are 255 dates.\n",
      "[(0, 'Date'), (1, 'Open'), (2, 'High'), (3, 'Low'), (4, 'Close'), (5, 'Change'), (6, 'Traded Volume'), (7, 'Turnover'), (8, 'Last Price of the Day'), (9, 'Daily Traded Units'), (10, 'Daily Turnover')]\n"
     ]
    }
   ],
   "source": [
    "data = response['dataset_data']['data']\n",
    "column_names = response['dataset_data']['column_names']\n",
    "print(f'There are {len(data)} dates.')\n",
    "print(list(enumerate(column_names)))"
   ]
  },
  {
   "cell_type": "markdown",
   "metadata": {},
   "source": [
    "## 3. Calculate what the highest and lowest opening prices were for the stock in this period."
   ]
  },
  {
   "cell_type": "code",
   "execution_count": 9,
   "metadata": {},
   "outputs": [
    {
     "name": "stdout",
     "output_type": "stream",
     "text": [
      "The highest open price was $53.11\n",
      "The lowest open price was $34.00\n"
     ]
    }
   ],
   "source": [
    "# Start with the first opening price\n",
    "highest_open_price = data[0][1]\n",
    "lowest_open_price = data[0][1]\n",
    "\n",
    "for row in data:\n",
    "    open_price = row[1]\n",
    "    if open_price:\n",
    "        highest_open_price = max(open_price, highest_open_price)\n",
    "        lowest_open_price = min(open_price, lowest_open_price)\n",
    "    \n",
    "print(f'The highest open price was {\"${:.2f}\".format(highest_open_price)}')\n",
    "print(f'The lowest open price was {\"${:.2f}\".format(lowest_open_price)}')"
   ]
  },
  {
   "cell_type": "markdown",
   "metadata": {},
   "source": [
    "## 4. What was the largest change in any one day (based on High and Low price)?"
   ]
  },
  {
   "cell_type": "code",
   "execution_count": 10,
   "metadata": {},
   "outputs": [
    {
     "name": "stdout",
     "output_type": "stream",
     "text": [
      "The largest change was $2.81 on 2017-05-11.\n"
     ]
    }
   ],
   "source": [
    "# Start with the first row\n",
    "largest_change_index = 0\n",
    "largest_change = data[0][2] - data[0][3]\n",
    "\n",
    "for index, row in enumerate(data):\n",
    "    change = abs(row[2] - row[3])\n",
    "    if change > largest_change:\n",
    "        largest_change = change\n",
    "        largest_change_index = index\n",
    "    \n",
    "print(f'The largest change was {\"${:.2f}\".format(data[largest_change_index][2] - data[largest_change_index][3])} on {data[largest_change_index][0]}.')"
   ]
  },
  {
   "cell_type": "markdown",
   "metadata": {},
   "source": [
    "## 5. What was the largest change between any two days (based on Closing Price)?"
   ]
  },
  {
   "cell_type": "code",
   "execution_count": 11,
   "metadata": {},
   "outputs": [
    {
     "name": "stdout",
     "output_type": "stream",
     "text": [
      "The largest change between two days was $-1.69 on 2017-08-09.\n"
     ]
    }
   ],
   "source": [
    "# Start with the first row\n",
    "largest_change_index = 0\n",
    "largest_change = abs(data[0][4] - data[0][1])\n",
    "\n",
    "for index, row in enumerate(data):\n",
    "    if row[1]:\n",
    "        change = abs(row[4] - row[1])\n",
    "        if change > largest_change:\n",
    "            largest_change = change\n",
    "            largest_change_index = index\n",
    "\n",
    "print(f'The largest change between two days was {\"${:.2f}\".format(data[largest_change_index][4] - data[largest_change_index][1])} on {data[largest_change_index][0]}.')"
   ]
  },
  {
   "cell_type": "markdown",
   "metadata": {},
   "source": [
    "## 6. What was the average daily trading volume during this year?"
   ]
  },
  {
   "cell_type": "code",
   "execution_count": 12,
   "metadata": {},
   "outputs": [
    {
     "name": "stdout",
     "output_type": "stream",
     "text": [
      "The average daily trading volume was 89124.337\n"
     ]
    }
   ],
   "source": [
    "num_days = len(data)\n",
    "total_trading_volume = 0\n",
    "\n",
    "for row in data:\n",
    "    total_trading_volume += row[6]\n",
    "    \n",
    "print(f'The average daily trading volume was {\"{:.3f}\".format(total_trading_volume / num_days)}')"
   ]
  },
  {
   "cell_type": "markdown",
   "metadata": {},
   "source": [
    "## 7. (Optional) What was the median trading volume during this year. (Note: you may need to implement your own function for calculating the median.)"
   ]
  },
  {
   "cell_type": "code",
   "execution_count": 13,
   "metadata": {},
   "outputs": [
    {
     "name": "stdout",
     "output_type": "stream",
     "text": [
      "The median trading volume during the year was 76286.0\n"
     ]
    }
   ],
   "source": [
    "import math\n",
    "\n",
    "def find_median(l):\n",
    "    l.sort()\n",
    "    list_length = len(l)\n",
    "    if list_length % 2 == 0:\n",
    "        return (l[math.floor(list_length / 2)] + l[math.floor(list_length / 2) - 1]) / 2\n",
    "    else:\n",
    "        return l[math.floor(list_length / 2)]\n",
    "\n",
    "trading_list = []\n",
    "for row in data:\n",
    "    trading_list.append(row[6])\n",
    "\n",
    "median_trading_volume = find_median(trading_list)\n",
    "print(f\"The median trading volume during the year was {median_trading_volume}\")"
   ]
  }
 ],
 "metadata": {
  "kernelspec": {
   "display_name": "Python 3",
   "language": "python",
   "name": "python3"
  },
  "language_info": {
   "codemirror_mode": {
    "name": "ipython",
    "version": 3
   },
   "file_extension": ".py",
   "mimetype": "text/x-python",
   "name": "python",
   "nbconvert_exporter": "python",
   "pygments_lexer": "ipython3",
   "version": "3.7.6"
  }
 },
 "nbformat": 4,
 "nbformat_minor": 2
}
